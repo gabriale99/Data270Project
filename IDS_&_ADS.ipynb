{
  "nbformat": 4,
  "nbformat_minor": 0,
  "metadata": {
    "colab": {
      "provenance": []
    },
    "kernelspec": {
      "name": "python3",
      "display_name": "Python 3"
    },
    "language_info": {
      "name": "python"
    }
  },
  "cells": [
    {
      "cell_type": "code",
      "execution_count": 1,
      "metadata": {
        "colab": {
          "base_uri": "https://localhost:8080/"
        },
        "id": "2d0OGp6cJ3HD",
        "outputId": "b02730dd-65a0-49b2-a6f4-36c21bcd8e88"
      },
      "outputs": [
        {
          "output_type": "stream",
          "name": "stdout",
          "text": [
            "Mounted at /content/drive\n"
          ]
        }
      ],
      "source": [
        "from google.colab import drive\n",
        "drive.mount('/content/drive')"
      ]
    },
    {
      "cell_type": "markdown",
      "source": [
        "# IDS"
      ],
      "metadata": {
        "id": "rEYAfhoCjXGX"
      }
    },
    {
      "cell_type": "markdown",
      "source": [
        "# Library Imports"
      ],
      "metadata": {
        "id": "tcm6HIe-iAL6"
      }
    },
    {
      "cell_type": "code",
      "source": [
        "import pandas as pd\n",
        "import numpy as np\n",
        "from sklearn.preprocessing import MinMaxScaler\n",
        "from tensorflow.keras.models import Sequential\n",
        "from tensorflow.keras.layers import LSTM, Dense, RepeatVector, TimeDistributed\n",
        "from tensorflow.keras.optimizers import Adam\n",
        "from sklearn.preprocessing import LabelEncoder\n",
        "import tensorflow as tf\n",
        "from sklearn.preprocessing import MinMaxScaler\n",
        "from sklearn.metrics import roc_curve, roc_auc_score, classification_report, confusion_matrix\n",
        "import matplotlib.pyplot as plt"
      ],
      "metadata": {
        "id": "z9Vg3sgQKN6O"
      },
      "execution_count": 2,
      "outputs": []
    },
    {
      "cell_type": "markdown",
      "source": [
        "# Data Imports and Processing "
      ],
      "metadata": {
        "id": "-hdgp1zSiHnB"
      }
    },
    {
      "cell_type": "code",
      "source": [
        "data = pd.read_csv('/content/drive/MyDrive/GWAR /Copy of train_flooding_data.csv')\n",
        "data"
      ],
      "metadata": {
        "id": "WLNOcUTLKVEm",
        "colab": {
          "base_uri": "https://localhost:8080/",
          "height": 423
        },
        "outputId": "30ed4287-eff5-4ecd-ff36-54aadbe925dd"
      },
      "execution_count": 58,
      "outputs": [
        {
          "output_type": "execute_result",
          "data": {
            "text/plain": [
              "         Label          Time   ID  Signal1_of_ID  Signal2_of_ID  \\\n",
              "0            0  8.100845e+07  id3       0.200000       1.000000   \n",
              "1            0  8.100846e+07  id9       0.370003            NaN   \n",
              "2            0  8.100846e+07  id7       0.044139       0.000000   \n",
              "3            0  8.100846e+07  id8       0.170534            NaN   \n",
              "4            0  8.100846e+07  id5       0.173044       0.874886   \n",
              "...        ...           ...  ...            ...            ...   \n",
              "2060637      0  8.460901e+07  id3       0.800000       0.994632   \n",
              "2060638      0  8.460901e+07  id8       0.186921            NaN   \n",
              "2060639      0  8.460901e+07  id4       0.002720            NaN   \n",
              "2060640      0  8.460901e+07  id2       0.005368       0.569341   \n",
              "2060641      0  8.460902e+07  id1       0.564148       0.250000   \n",
              "\n",
              "         Signal3_of_ID  Signal4_of_ID  \n",
              "0                  NaN            NaN  \n",
              "1                  NaN            NaN  \n",
              "2                  NaN            NaN  \n",
              "3                  NaN            NaN  \n",
              "4                  NaN            NaN  \n",
              "...                ...            ...  \n",
              "2060637            NaN            NaN  \n",
              "2060638            NaN            NaN  \n",
              "2060639            NaN            NaN  \n",
              "2060640       0.182597            NaN  \n",
              "2060641            NaN            NaN  \n",
              "\n",
              "[2060642 rows x 7 columns]"
            ],
            "text/html": [
              "\n",
              "  <div id=\"df-3e4b640f-03e2-4c32-bca5-27c9c6acde37\">\n",
              "    <div class=\"colab-df-container\">\n",
              "      <div>\n",
              "<style scoped>\n",
              "    .dataframe tbody tr th:only-of-type {\n",
              "        vertical-align: middle;\n",
              "    }\n",
              "\n",
              "    .dataframe tbody tr th {\n",
              "        vertical-align: top;\n",
              "    }\n",
              "\n",
              "    .dataframe thead th {\n",
              "        text-align: right;\n",
              "    }\n",
              "</style>\n",
              "<table border=\"1\" class=\"dataframe\">\n",
              "  <thead>\n",
              "    <tr style=\"text-align: right;\">\n",
              "      <th></th>\n",
              "      <th>Label</th>\n",
              "      <th>Time</th>\n",
              "      <th>ID</th>\n",
              "      <th>Signal1_of_ID</th>\n",
              "      <th>Signal2_of_ID</th>\n",
              "      <th>Signal3_of_ID</th>\n",
              "      <th>Signal4_of_ID</th>\n",
              "    </tr>\n",
              "  </thead>\n",
              "  <tbody>\n",
              "    <tr>\n",
              "      <th>0</th>\n",
              "      <td>0</td>\n",
              "      <td>8.100845e+07</td>\n",
              "      <td>id3</td>\n",
              "      <td>0.200000</td>\n",
              "      <td>1.000000</td>\n",
              "      <td>NaN</td>\n",
              "      <td>NaN</td>\n",
              "    </tr>\n",
              "    <tr>\n",
              "      <th>1</th>\n",
              "      <td>0</td>\n",
              "      <td>8.100846e+07</td>\n",
              "      <td>id9</td>\n",
              "      <td>0.370003</td>\n",
              "      <td>NaN</td>\n",
              "      <td>NaN</td>\n",
              "      <td>NaN</td>\n",
              "    </tr>\n",
              "    <tr>\n",
              "      <th>2</th>\n",
              "      <td>0</td>\n",
              "      <td>8.100846e+07</td>\n",
              "      <td>id7</td>\n",
              "      <td>0.044139</td>\n",
              "      <td>0.000000</td>\n",
              "      <td>NaN</td>\n",
              "      <td>NaN</td>\n",
              "    </tr>\n",
              "    <tr>\n",
              "      <th>3</th>\n",
              "      <td>0</td>\n",
              "      <td>8.100846e+07</td>\n",
              "      <td>id8</td>\n",
              "      <td>0.170534</td>\n",
              "      <td>NaN</td>\n",
              "      <td>NaN</td>\n",
              "      <td>NaN</td>\n",
              "    </tr>\n",
              "    <tr>\n",
              "      <th>4</th>\n",
              "      <td>0</td>\n",
              "      <td>8.100846e+07</td>\n",
              "      <td>id5</td>\n",
              "      <td>0.173044</td>\n",
              "      <td>0.874886</td>\n",
              "      <td>NaN</td>\n",
              "      <td>NaN</td>\n",
              "    </tr>\n",
              "    <tr>\n",
              "      <th>...</th>\n",
              "      <td>...</td>\n",
              "      <td>...</td>\n",
              "      <td>...</td>\n",
              "      <td>...</td>\n",
              "      <td>...</td>\n",
              "      <td>...</td>\n",
              "      <td>...</td>\n",
              "    </tr>\n",
              "    <tr>\n",
              "      <th>2060637</th>\n",
              "      <td>0</td>\n",
              "      <td>8.460901e+07</td>\n",
              "      <td>id3</td>\n",
              "      <td>0.800000</td>\n",
              "      <td>0.994632</td>\n",
              "      <td>NaN</td>\n",
              "      <td>NaN</td>\n",
              "    </tr>\n",
              "    <tr>\n",
              "      <th>2060638</th>\n",
              "      <td>0</td>\n",
              "      <td>8.460901e+07</td>\n",
              "      <td>id8</td>\n",
              "      <td>0.186921</td>\n",
              "      <td>NaN</td>\n",
              "      <td>NaN</td>\n",
              "      <td>NaN</td>\n",
              "    </tr>\n",
              "    <tr>\n",
              "      <th>2060639</th>\n",
              "      <td>0</td>\n",
              "      <td>8.460901e+07</td>\n",
              "      <td>id4</td>\n",
              "      <td>0.002720</td>\n",
              "      <td>NaN</td>\n",
              "      <td>NaN</td>\n",
              "      <td>NaN</td>\n",
              "    </tr>\n",
              "    <tr>\n",
              "      <th>2060640</th>\n",
              "      <td>0</td>\n",
              "      <td>8.460901e+07</td>\n",
              "      <td>id2</td>\n",
              "      <td>0.005368</td>\n",
              "      <td>0.569341</td>\n",
              "      <td>0.182597</td>\n",
              "      <td>NaN</td>\n",
              "    </tr>\n",
              "    <tr>\n",
              "      <th>2060641</th>\n",
              "      <td>0</td>\n",
              "      <td>8.460902e+07</td>\n",
              "      <td>id1</td>\n",
              "      <td>0.564148</td>\n",
              "      <td>0.250000</td>\n",
              "      <td>NaN</td>\n",
              "      <td>NaN</td>\n",
              "    </tr>\n",
              "  </tbody>\n",
              "</table>\n",
              "<p>2060642 rows × 7 columns</p>\n",
              "</div>\n",
              "      <button class=\"colab-df-convert\" onclick=\"convertToInteractive('df-3e4b640f-03e2-4c32-bca5-27c9c6acde37')\"\n",
              "              title=\"Convert this dataframe to an interactive table.\"\n",
              "              style=\"display:none;\">\n",
              "        \n",
              "  <svg xmlns=\"http://www.w3.org/2000/svg\" height=\"24px\"viewBox=\"0 0 24 24\"\n",
              "       width=\"24px\">\n",
              "    <path d=\"M0 0h24v24H0V0z\" fill=\"none\"/>\n",
              "    <path d=\"M18.56 5.44l.94 2.06.94-2.06 2.06-.94-2.06-.94-.94-2.06-.94 2.06-2.06.94zm-11 1L8.5 8.5l.94-2.06 2.06-.94-2.06-.94L8.5 2.5l-.94 2.06-2.06.94zm10 10l.94 2.06.94-2.06 2.06-.94-2.06-.94-.94-2.06-.94 2.06-2.06.94z\"/><path d=\"M17.41 7.96l-1.37-1.37c-.4-.4-.92-.59-1.43-.59-.52 0-1.04.2-1.43.59L10.3 9.45l-7.72 7.72c-.78.78-.78 2.05 0 2.83L4 21.41c.39.39.9.59 1.41.59.51 0 1.02-.2 1.41-.59l7.78-7.78 2.81-2.81c.8-.78.8-2.07 0-2.86zM5.41 20L4 18.59l7.72-7.72 1.47 1.35L5.41 20z\"/>\n",
              "  </svg>\n",
              "      </button>\n",
              "      \n",
              "  <style>\n",
              "    .colab-df-container {\n",
              "      display:flex;\n",
              "      flex-wrap:wrap;\n",
              "      gap: 12px;\n",
              "    }\n",
              "\n",
              "    .colab-df-convert {\n",
              "      background-color: #E8F0FE;\n",
              "      border: none;\n",
              "      border-radius: 50%;\n",
              "      cursor: pointer;\n",
              "      display: none;\n",
              "      fill: #1967D2;\n",
              "      height: 32px;\n",
              "      padding: 0 0 0 0;\n",
              "      width: 32px;\n",
              "    }\n",
              "\n",
              "    .colab-df-convert:hover {\n",
              "      background-color: #E2EBFA;\n",
              "      box-shadow: 0px 1px 2px rgba(60, 64, 67, 0.3), 0px 1px 3px 1px rgba(60, 64, 67, 0.15);\n",
              "      fill: #174EA6;\n",
              "    }\n",
              "\n",
              "    [theme=dark] .colab-df-convert {\n",
              "      background-color: #3B4455;\n",
              "      fill: #D2E3FC;\n",
              "    }\n",
              "\n",
              "    [theme=dark] .colab-df-convert:hover {\n",
              "      background-color: #434B5C;\n",
              "      box-shadow: 0px 1px 3px 1px rgba(0, 0, 0, 0.15);\n",
              "      filter: drop-shadow(0px 1px 2px rgba(0, 0, 0, 0.3));\n",
              "      fill: #FFFFFF;\n",
              "    }\n",
              "  </style>\n",
              "\n",
              "      <script>\n",
              "        const buttonEl =\n",
              "          document.querySelector('#df-3e4b640f-03e2-4c32-bca5-27c9c6acde37 button.colab-df-convert');\n",
              "        buttonEl.style.display =\n",
              "          google.colab.kernel.accessAllowed ? 'block' : 'none';\n",
              "\n",
              "        async function convertToInteractive(key) {\n",
              "          const element = document.querySelector('#df-3e4b640f-03e2-4c32-bca5-27c9c6acde37');\n",
              "          const dataTable =\n",
              "            await google.colab.kernel.invokeFunction('convertToInteractive',\n",
              "                                                     [key], {});\n",
              "          if (!dataTable) return;\n",
              "\n",
              "          const docLinkHtml = 'Like what you see? Visit the ' +\n",
              "            '<a target=\"_blank\" href=https://colab.research.google.com/notebooks/data_table.ipynb>data table notebook</a>'\n",
              "            + ' to learn more about interactive tables.';\n",
              "          element.innerHTML = '';\n",
              "          dataTable['output_type'] = 'display_data';\n",
              "          await google.colab.output.renderOutput(dataTable, element);\n",
              "          const docLink = document.createElement('div');\n",
              "          docLink.innerHTML = docLinkHtml;\n",
              "          element.appendChild(docLink);\n",
              "        }\n",
              "      </script>\n",
              "    </div>\n",
              "  </div>\n",
              "  "
            ]
          },
          "metadata": {},
          "execution_count": 58
        }
      ]
    },
    {
      "cell_type": "code",
      "source": [
        "data = data.fillna(-.0000001)"
      ],
      "metadata": {
        "id": "wch80wh_l6ez"
      },
      "execution_count": 4,
      "outputs": []
    },
    {
      "cell_type": "code",
      "source": [
        "encoder = LabelEncoder()\n",
        "data['ID_encoded'] = encoder.fit_transform(data['ID'])"
      ],
      "metadata": {
        "id": "Y7_G6kqaKW1w"
      },
      "execution_count": 5,
      "outputs": []
    },
    {
      "cell_type": "code",
      "source": [
        "data = data.drop('ID', axis =1)"
      ],
      "metadata": {
        "id": "S2396Yc2KYre"
      },
      "execution_count": 6,
      "outputs": []
    },
    {
      "cell_type": "code",
      "source": [
        "X_train = data.iloc[:,1:].values\n",
        "Y_train = data.iloc[:,0].values\n",
        "X_train"
      ],
      "metadata": {
        "colab": {
          "base_uri": "https://localhost:8080/"
        },
        "id": "qLJJ0p4wKeb1",
        "outputId": "d49ca32e-6b9f-46cb-f979-385fb99849bd"
      },
      "execution_count": 7,
      "outputs": [
        {
          "output_type": "execute_result",
          "data": {
            "text/plain": [
              "array([[ 8.10084494e+07,  2.00000000e-01,  1.00000000e+00,\n",
              "        -1.00000000e-07, -1.00000000e-07,  3.00000000e+00],\n",
              "       [ 8.10084568e+07,  3.70002961e-01, -1.00000000e-07,\n",
              "        -1.00000000e-07, -1.00000000e-07,  9.00000000e+00],\n",
              "       [ 8.10084582e+07,  4.41385209e-02,  0.00000000e+00,\n",
              "        -1.00000000e-07, -1.00000000e-07,  7.00000000e+00],\n",
              "       ...,\n",
              "       [ 8.46090074e+07,  2.72000000e-03, -1.00000000e-07,\n",
              "        -1.00000000e-07, -1.00000000e-07,  4.00000000e+00],\n",
              "       [ 8.46090083e+07,  5.36823693e-03,  5.69341091e-01,\n",
              "         1.82596545e-01, -1.00000000e-07,  2.00000000e+00],\n",
              "       [ 8.46090154e+07,  5.64148088e-01,  2.50000000e-01,\n",
              "        -1.00000000e-07, -1.00000000e-07,  0.00000000e+00]])"
            ]
          },
          "metadata": {},
          "execution_count": 7
        }
      ]
    },
    {
      "cell_type": "code",
      "source": [
        "from sklearn.preprocessing import StandardScaler\n",
        "sc = StandardScaler()\n",
        "X_train = sc.fit_transform(X_train)"
      ],
      "metadata": {
        "id": "YI-CCluOKgtM"
      },
      "execution_count": 8,
      "outputs": []
    },
    {
      "cell_type": "code",
      "source": [
        "\n",
        "df_test = pd.read_csv('/content/drive/MyDrive/GWAR /Copy of test_flooding_data (1).csv')"
      ],
      "metadata": {
        "id": "ACstppMHKizp"
      },
      "execution_count": 9,
      "outputs": []
    },
    {
      "cell_type": "code",
      "source": [
        "df_test"
      ],
      "metadata": {
        "colab": {
          "base_uri": "https://localhost:8080/",
          "height": 423
        },
        "id": "72s-g5Z0Kkbs",
        "outputId": "5aca7799-c439-47b9-d31f-c895f2821d5d"
      },
      "execution_count": 10,
      "outputs": [
        {
          "output_type": "execute_result",
          "data": {
            "text/plain": [
              "        Label          Time    ID  Signal1_of_ID  Signal2_of_ID  \\\n",
              "0           0  8.460902e+07   id7       0.053403       0.500000   \n",
              "1           0  8.460902e+07   id5       0.130537       0.999369   \n",
              "2           0  8.460902e+07   id6       1.000000       0.888889   \n",
              "3           0  8.460902e+07   id3       1.000000       0.994632   \n",
              "4           0  8.460902e+07   id8       0.187604            NaN   \n",
              "...       ...           ...   ...            ...            ...   \n",
              "515156      0  8.550892e+07  id10       0.336289       0.555556   \n",
              "515157      0  8.550892e+07   id8       0.215258            NaN   \n",
              "515158      0  8.550892e+07   id4       0.233920            NaN   \n",
              "515159      0  8.550892e+07   id3       0.800000       1.000000   \n",
              "515160      0  8.550892e+07   id2       0.000000       0.626573   \n",
              "\n",
              "        Signal3_of_ID  Signal4_of_ID  \n",
              "0                 NaN            NaN  \n",
              "1                 NaN            NaN  \n",
              "2                 NaN            NaN  \n",
              "3                 NaN            NaN  \n",
              "4                 NaN            NaN  \n",
              "...               ...            ...  \n",
              "515156       0.913794       0.352531  \n",
              "515157            NaN            NaN  \n",
              "515158            NaN            NaN  \n",
              "515159            NaN            NaN  \n",
              "515160       0.210451            NaN  \n",
              "\n",
              "[515161 rows x 7 columns]"
            ],
            "text/html": [
              "\n",
              "  <div id=\"df-f290fb53-dd47-4d13-97f8-b6bdb28f5f10\">\n",
              "    <div class=\"colab-df-container\">\n",
              "      <div>\n",
              "<style scoped>\n",
              "    .dataframe tbody tr th:only-of-type {\n",
              "        vertical-align: middle;\n",
              "    }\n",
              "\n",
              "    .dataframe tbody tr th {\n",
              "        vertical-align: top;\n",
              "    }\n",
              "\n",
              "    .dataframe thead th {\n",
              "        text-align: right;\n",
              "    }\n",
              "</style>\n",
              "<table border=\"1\" class=\"dataframe\">\n",
              "  <thead>\n",
              "    <tr style=\"text-align: right;\">\n",
              "      <th></th>\n",
              "      <th>Label</th>\n",
              "      <th>Time</th>\n",
              "      <th>ID</th>\n",
              "      <th>Signal1_of_ID</th>\n",
              "      <th>Signal2_of_ID</th>\n",
              "      <th>Signal3_of_ID</th>\n",
              "      <th>Signal4_of_ID</th>\n",
              "    </tr>\n",
              "  </thead>\n",
              "  <tbody>\n",
              "    <tr>\n",
              "      <th>0</th>\n",
              "      <td>0</td>\n",
              "      <td>8.460902e+07</td>\n",
              "      <td>id7</td>\n",
              "      <td>0.053403</td>\n",
              "      <td>0.500000</td>\n",
              "      <td>NaN</td>\n",
              "      <td>NaN</td>\n",
              "    </tr>\n",
              "    <tr>\n",
              "      <th>1</th>\n",
              "      <td>0</td>\n",
              "      <td>8.460902e+07</td>\n",
              "      <td>id5</td>\n",
              "      <td>0.130537</td>\n",
              "      <td>0.999369</td>\n",
              "      <td>NaN</td>\n",
              "      <td>NaN</td>\n",
              "    </tr>\n",
              "    <tr>\n",
              "      <th>2</th>\n",
              "      <td>0</td>\n",
              "      <td>8.460902e+07</td>\n",
              "      <td>id6</td>\n",
              "      <td>1.000000</td>\n",
              "      <td>0.888889</td>\n",
              "      <td>NaN</td>\n",
              "      <td>NaN</td>\n",
              "    </tr>\n",
              "    <tr>\n",
              "      <th>3</th>\n",
              "      <td>0</td>\n",
              "      <td>8.460902e+07</td>\n",
              "      <td>id3</td>\n",
              "      <td>1.000000</td>\n",
              "      <td>0.994632</td>\n",
              "      <td>NaN</td>\n",
              "      <td>NaN</td>\n",
              "    </tr>\n",
              "    <tr>\n",
              "      <th>4</th>\n",
              "      <td>0</td>\n",
              "      <td>8.460902e+07</td>\n",
              "      <td>id8</td>\n",
              "      <td>0.187604</td>\n",
              "      <td>NaN</td>\n",
              "      <td>NaN</td>\n",
              "      <td>NaN</td>\n",
              "    </tr>\n",
              "    <tr>\n",
              "      <th>...</th>\n",
              "      <td>...</td>\n",
              "      <td>...</td>\n",
              "      <td>...</td>\n",
              "      <td>...</td>\n",
              "      <td>...</td>\n",
              "      <td>...</td>\n",
              "      <td>...</td>\n",
              "    </tr>\n",
              "    <tr>\n",
              "      <th>515156</th>\n",
              "      <td>0</td>\n",
              "      <td>8.550892e+07</td>\n",
              "      <td>id10</td>\n",
              "      <td>0.336289</td>\n",
              "      <td>0.555556</td>\n",
              "      <td>0.913794</td>\n",
              "      <td>0.352531</td>\n",
              "    </tr>\n",
              "    <tr>\n",
              "      <th>515157</th>\n",
              "      <td>0</td>\n",
              "      <td>8.550892e+07</td>\n",
              "      <td>id8</td>\n",
              "      <td>0.215258</td>\n",
              "      <td>NaN</td>\n",
              "      <td>NaN</td>\n",
              "      <td>NaN</td>\n",
              "    </tr>\n",
              "    <tr>\n",
              "      <th>515158</th>\n",
              "      <td>0</td>\n",
              "      <td>8.550892e+07</td>\n",
              "      <td>id4</td>\n",
              "      <td>0.233920</td>\n",
              "      <td>NaN</td>\n",
              "      <td>NaN</td>\n",
              "      <td>NaN</td>\n",
              "    </tr>\n",
              "    <tr>\n",
              "      <th>515159</th>\n",
              "      <td>0</td>\n",
              "      <td>8.550892e+07</td>\n",
              "      <td>id3</td>\n",
              "      <td>0.800000</td>\n",
              "      <td>1.000000</td>\n",
              "      <td>NaN</td>\n",
              "      <td>NaN</td>\n",
              "    </tr>\n",
              "    <tr>\n",
              "      <th>515160</th>\n",
              "      <td>0</td>\n",
              "      <td>8.550892e+07</td>\n",
              "      <td>id2</td>\n",
              "      <td>0.000000</td>\n",
              "      <td>0.626573</td>\n",
              "      <td>0.210451</td>\n",
              "      <td>NaN</td>\n",
              "    </tr>\n",
              "  </tbody>\n",
              "</table>\n",
              "<p>515161 rows × 7 columns</p>\n",
              "</div>\n",
              "      <button class=\"colab-df-convert\" onclick=\"convertToInteractive('df-f290fb53-dd47-4d13-97f8-b6bdb28f5f10')\"\n",
              "              title=\"Convert this dataframe to an interactive table.\"\n",
              "              style=\"display:none;\">\n",
              "        \n",
              "  <svg xmlns=\"http://www.w3.org/2000/svg\" height=\"24px\"viewBox=\"0 0 24 24\"\n",
              "       width=\"24px\">\n",
              "    <path d=\"M0 0h24v24H0V0z\" fill=\"none\"/>\n",
              "    <path d=\"M18.56 5.44l.94 2.06.94-2.06 2.06-.94-2.06-.94-.94-2.06-.94 2.06-2.06.94zm-11 1L8.5 8.5l.94-2.06 2.06-.94-2.06-.94L8.5 2.5l-.94 2.06-2.06.94zm10 10l.94 2.06.94-2.06 2.06-.94-2.06-.94-.94-2.06-.94 2.06-2.06.94z\"/><path d=\"M17.41 7.96l-1.37-1.37c-.4-.4-.92-.59-1.43-.59-.52 0-1.04.2-1.43.59L10.3 9.45l-7.72 7.72c-.78.78-.78 2.05 0 2.83L4 21.41c.39.39.9.59 1.41.59.51 0 1.02-.2 1.41-.59l7.78-7.78 2.81-2.81c.8-.78.8-2.07 0-2.86zM5.41 20L4 18.59l7.72-7.72 1.47 1.35L5.41 20z\"/>\n",
              "  </svg>\n",
              "      </button>\n",
              "      \n",
              "  <style>\n",
              "    .colab-df-container {\n",
              "      display:flex;\n",
              "      flex-wrap:wrap;\n",
              "      gap: 12px;\n",
              "    }\n",
              "\n",
              "    .colab-df-convert {\n",
              "      background-color: #E8F0FE;\n",
              "      border: none;\n",
              "      border-radius: 50%;\n",
              "      cursor: pointer;\n",
              "      display: none;\n",
              "      fill: #1967D2;\n",
              "      height: 32px;\n",
              "      padding: 0 0 0 0;\n",
              "      width: 32px;\n",
              "    }\n",
              "\n",
              "    .colab-df-convert:hover {\n",
              "      background-color: #E2EBFA;\n",
              "      box-shadow: 0px 1px 2px rgba(60, 64, 67, 0.3), 0px 1px 3px 1px rgba(60, 64, 67, 0.15);\n",
              "      fill: #174EA6;\n",
              "    }\n",
              "\n",
              "    [theme=dark] .colab-df-convert {\n",
              "      background-color: #3B4455;\n",
              "      fill: #D2E3FC;\n",
              "    }\n",
              "\n",
              "    [theme=dark] .colab-df-convert:hover {\n",
              "      background-color: #434B5C;\n",
              "      box-shadow: 0px 1px 3px 1px rgba(0, 0, 0, 0.15);\n",
              "      filter: drop-shadow(0px 1px 2px rgba(0, 0, 0, 0.3));\n",
              "      fill: #FFFFFF;\n",
              "    }\n",
              "  </style>\n",
              "\n",
              "      <script>\n",
              "        const buttonEl =\n",
              "          document.querySelector('#df-f290fb53-dd47-4d13-97f8-b6bdb28f5f10 button.colab-df-convert');\n",
              "        buttonEl.style.display =\n",
              "          google.colab.kernel.accessAllowed ? 'block' : 'none';\n",
              "\n",
              "        async function convertToInteractive(key) {\n",
              "          const element = document.querySelector('#df-f290fb53-dd47-4d13-97f8-b6bdb28f5f10');\n",
              "          const dataTable =\n",
              "            await google.colab.kernel.invokeFunction('convertToInteractive',\n",
              "                                                     [key], {});\n",
              "          if (!dataTable) return;\n",
              "\n",
              "          const docLinkHtml = 'Like what you see? Visit the ' +\n",
              "            '<a target=\"_blank\" href=https://colab.research.google.com/notebooks/data_table.ipynb>data table notebook</a>'\n",
              "            + ' to learn more about interactive tables.';\n",
              "          element.innerHTML = '';\n",
              "          dataTable['output_type'] = 'display_data';\n",
              "          await google.colab.output.renderOutput(dataTable, element);\n",
              "          const docLink = document.createElement('div');\n",
              "          docLink.innerHTML = docLinkHtml;\n",
              "          element.appendChild(docLink);\n",
              "        }\n",
              "      </script>\n",
              "    </div>\n",
              "  </div>\n",
              "  "
            ]
          },
          "metadata": {},
          "execution_count": 10
        }
      ]
    },
    {
      "cell_type": "code",
      "source": [
        "encoder = LabelEncoder()\n",
        "df_test['ID_encoded'] = encoder.fit_transform(df_test['ID'])"
      ],
      "metadata": {
        "id": "I3mZ7W5QKl-K"
      },
      "execution_count": 11,
      "outputs": []
    },
    {
      "cell_type": "code",
      "source": [
        "df_test1 = df_test.drop('ID', axis =1)"
      ],
      "metadata": {
        "id": "tk-BFBARKn5d"
      },
      "execution_count": 12,
      "outputs": []
    },
    {
      "cell_type": "code",
      "source": [
        "df_test1 = df_test1.fillna(-.0000001)"
      ],
      "metadata": {
        "id": "0ynRoD__KqqB"
      },
      "execution_count": 13,
      "outputs": []
    },
    {
      "cell_type": "code",
      "source": [
        "X_test = df_test1.iloc[:,1:].values\n",
        "Y_test = df_test1.iloc[:,0].values"
      ],
      "metadata": {
        "id": "mkWn6Nl5KsG_"
      },
      "execution_count": 14,
      "outputs": []
    },
    {
      "cell_type": "code",
      "source": [
        "X_test = sc.transform(X_test)"
      ],
      "metadata": {
        "id": "dK39OTVJKuNm"
      },
      "execution_count": 15,
      "outputs": []
    },
    {
      "cell_type": "markdown",
      "source": [
        "# Modeling "
      ],
      "metadata": {
        "id": "Jg-Q97uxiVzQ"
      }
    },
    {
      "cell_type": "code",
      "source": [
        "import numpy as np\n",
        "\n",
        "# Define the sigmoid activation function\n",
        "def sigmoid(x):\n",
        "    return 1 / (1 + np.exp(-x))\n",
        "\n",
        "# Define the LSTM layer\n",
        "class LSTM:\n",
        "    def __init__(self, input_size, hidden_size):\n",
        "        self.input_size = input_size\n",
        "        self.hidden_size = hidden_size\n",
        "        self.Wf = np.random.randn(hidden_size, input_size + hidden_size)\n",
        "        self.Wi = np.random.randn(hidden_size, input_size + hidden_size)\n",
        "        self.Wo = np.random.randn(hidden_size, input_size + hidden_size)\n",
        "        self.Wc = np.random.randn(hidden_size, input_size + hidden_size)\n",
        "        self.bf = np.random.randn(hidden_size, 1)\n",
        "        self.bi = np.random.randn(hidden_size, 1)\n",
        "        self.bo = np.random.randn(hidden_size, 1)\n",
        "        self.bc = np.random.randn(hidden_size, 1)\n",
        "        self.h = np.zeros((hidden_size, 1))\n",
        "        self.c = np.zeros((hidden_size, 1))\n",
        "    \n",
        "    def forward(self, x):\n",
        "        self.x = x\n",
        "        self.concatenate_input = np.concatenate((self.h, x), axis=0)\n",
        "        self.f = sigmoid(np.dot(self.Wf, self.concatenate_input) + self.bf)\n",
        "        self.i = sigmoid(np.dot(self.Wi, self.concatenate_input) + self.bi)\n",
        "        self.o = sigmoid(np.dot(self.Wo, self.concatenate_input) + self.bo)\n",
        "        self.c_hat = np.tanh(np.dot(self.Wc, self.concatenate_input) + self.bc)\n",
        "        self.c = self.f * self.c + self.i * self.c_hat\n",
        "        self.h = self.o * np.tanh(self.c)\n",
        "        return self.h\n",
        "    \n",
        "    def backward(self, dh_next, dc_next):\n",
        "        do = np.tanh(self.c) * dh_next\n",
        "        dc = self.o * (1 - np.tanh(self.c) ** 2) * dh_next + dc_next\n",
        "        df = self.c * dc\n",
        "        di = self.c_hat * dc\n",
        "        dc_hat = self.i * dc\n",
        "        d_concatenate_input = np.dot(self.Wf.T, df) + np.dot(self.Wi.T, di) + np.dot(self.Wo.T, do) + np.dot(self.Wc.T, dc_hat)\n",
        "        dh_prev = d_concatenate_input[:self.hidden_size, :]\n",
        "        dx = d_concatenate_input[self.hidden_size:, :]\n",
        "        return dh_prev, dc\n",
        "    \n",
        "# Define the LSTM model\n",
        "class LSTMModel:\n",
        "    def __init__(self, input_size, hidden_size):\n",
        "        self.lstm = LSTM(input_size, hidden_size)\n",
        "        self.fc = np.random.randn(1, hidden_size)\n",
        "    \n",
        "    def forward(self, x):\n",
        "        h = self.lstm.forward(x)\n",
        "        y = np.dot(self.fc, h)\n",
        "        return y\n",
        "    \n",
        "    def backward(self, dy):\n",
        "        dh = np.dot(self.fc.T, dy)\n",
        "        dh_prev, dc_prev = self.lstm.backward(dh, np.zeros_like(self.lstm.c))\n",
        "        return dh_prev, dc_prev\n",
        "    \n",
        "# Define the training loop\n",
        "def train(X_train_seq, y_train_seq, epochs, learning_rate):\n",
        "    input_size = X_train_seq.shape[2]\n",
        "    hidden_size = 128\n",
        "    model = LSTMModel(input_size, hidden_size)\n",
        "    \n",
        "    for epoch in range(epochs):\n",
        "        loss = 0\n",
        "        for i in range(len(X_train_seq)):\n",
        "            x = X_train_seq[i].T\n",
        "            y_true = y_train_seq[i]\n",
        "            \n",
        "            # Forward pass\n",
        "                    y_pred = model.forward(x)\n",
        "        \n",
        "        # Calculate loss\n",
        "        loss += np.square(y_pred - y_true)\n",
        "        \n",
        "        # Backward pass\n",
        "        dy = 2 * (y_pred - y_true)\n",
        "        dh_prev, dc_prev = model.backward(dy)\n",
        "        \n",
        "        # Update parameters\n",
        "        model.lstm.Wf -= learning_rate * model.lstm.f * (1 - model.lstm.f) * np.dot(dh_prev * model.lstm.c, np.concatenate((model.lstm.h, x), axis=0).T)\n",
        "        model.lstm.Wi -= learning_rate * model.lstm.i * (1 - model.lstm.i) * np.dot(dh_prev * model.lstm.c_hat, np.concatenate((model.lstm.h, x), axis=0).T)\n",
        "        model.lstm.Wo -= learning_rate * model.lstm.o * (1 - model.lstm.o) * np.dot(dh_prev * np.tanh(model.lstm.c), np.concatenate((model.lstm.h, x), axis=0).T)\n",
        "        model.lstm.Wc -= learning_rate * (1 - np.tanh(model.lstm.c) ** 2) * np.dot(dc_prev * model.lstm.i, np.concatenate((model.lstm.h, x), axis=0).T)\n",
        "        model.lstm.bf -= learning_rate * model.lstm.f * (1 - model.lstm.f) * dh_prev * model.lstm.c\n",
        "        model.lstm.bi -= learning_rate * model.lstm.i * (1 - model.lstm.i) * dh_prev * model.lstm.c_hat\n",
        "        model.lstm.bo -= learning_rate * model.lstm.o * (1 - model.lstm.o) * dh_prev * np.tanh(model.lstm.c)\n",
        "        model.lstm.bc -= learning_rate * (1 - np.tanh(model.lstm.c) ** 2) * dc_prev * model.lstm.i\n",
        "        model.fc -= learning_rate * np.dot(dy, model.lstm.h.T)\n",
        "    \n",
        "    # Print epoch loss\n",
        "    print(f\"Epoch {epoch + 1} Loss: {loss}\")\n",
        "\n",
        "return model\n",
        "\n"
      ],
      "metadata": {
        "id": "F3YUqLZZZqaT"
      },
      "execution_count": null,
      "outputs": []
    },
    {
      "cell_type": "markdown",
      "source": [
        "## Sequence Creation"
      ],
      "metadata": {
        "id": "3ofV0kMPiYX2"
      }
    },
    {
      "cell_type": "code",
      "source": [
        "def create_sequences(data, seq_length):\n",
        "    sequences = []\n",
        "    data_length = len(data)\n",
        "    \n",
        "    for i in range(data_length - seq_length + 1):\n",
        "        sequences.append(data[i:i + seq_length])\n",
        "        \n",
        "    return np.array(sequences)\n"
      ],
      "metadata": {
        "id": "1vs-nVJd4ZSc"
      },
      "execution_count": 16,
      "outputs": []
    },
    {
      "cell_type": "code",
      "source": [
        "\n",
        "sequence_length = 10\n",
        "X_train_seq = create_sequences(X_train, sequence_length)\n",
        "X_test_seq = create_sequences(X_test, sequence_length)\n",
        "\n",
        "# Adjust y_train and y_test to match the sequence length\n",
        "y_train_seq = Y_train[sequence_length - 1:]\n",
        "y_test_seq = Y_test[sequence_length - 1:]\n"
      ],
      "metadata": {
        "id": "897dSt9t4Zqd"
      },
      "execution_count": 17,
      "outputs": []
    },
    {
      "cell_type": "code",
      "source": [
        "# Check for data imbalance in train set\n",
        "val, freq = np.unique(y_train_seq, return_counts=True)\n",
        "val, freq/len(y_train_seq)"
      ],
      "metadata": {
        "colab": {
          "base_uri": "https://localhost:8080/"
        },
        "id": "jeEhpncC4bDl",
        "outputId": "eda75fd1-2b02-4b22-8c19-f42a3a1f4ce0"
      },
      "execution_count": 18,
      "outputs": [
        {
          "output_type": "execute_result",
          "data": {
            "text/plain": [
              "(array([0, 1]), array([0.69551007, 0.30448993]))"
            ]
          },
          "metadata": {},
          "execution_count": 18
        }
      ]
    },
    {
      "cell_type": "code",
      "source": [
        "# Check for data imbalance in test set\n",
        "val, freq = np.unique(y_test_seq, return_counts=True)\n",
        "val, freq/len(y_test_seq)"
      ],
      "metadata": {
        "colab": {
          "base_uri": "https://localhost:8080/"
        },
        "id": "vSOEI_CD4fY4",
        "outputId": "4c9ad7ff-e6f2-4e5a-cf88-39083122e35d"
      },
      "execution_count": 19,
      "outputs": [
        {
          "output_type": "execute_result",
          "data": {
            "text/plain": [
              "(array([0, 1]), array([0.70536463, 0.29463537]))"
            ]
          },
          "metadata": {},
          "execution_count": 19
        }
      ]
    },
    {
      "cell_type": "markdown",
      "source": [
        "## Modeling "
      ],
      "metadata": {
        "id": "A1_DH_Gzidyq"
      }
    },
    {
      "cell_type": "code",
      "source": [
        "from keras.layers import Masking\n",
        "\n",
        "n_features = X_train.shape[1]\n",
        "mask_value = -0.0000001\n",
        "\n",
        "model1 = Sequential([\n",
        "    Masking(mask_value=mask_value, input_shape=(sequence_length, n_features)),\n",
        "    LSTM(128, activation='relu', return_sequences=True),\n",
        "    LSTM(64, activation='relu', return_sequences=False),\n",
        "    Dense(1, activation='sigmoid')\n",
        "])\n",
        "\n",
        "model1.summary()\n"
      ],
      "metadata": {
        "colab": {
          "base_uri": "https://localhost:8080/"
        },
        "id": "3esRONck4hD5",
        "outputId": "4bf8670b-7400-47c3-c2a8-8034dcf7bbef"
      },
      "execution_count": 20,
      "outputs": [
        {
          "output_type": "stream",
          "name": "stdout",
          "text": [
            "Model: \"sequential\"\n",
            "_________________________________________________________________\n",
            " Layer (type)                Output Shape              Param #   \n",
            "=================================================================\n",
            " masking (Masking)           (None, 10, 6)             0         \n",
            "                                                                 \n",
            " lstm (LSTM)                 (None, 10, 128)           69120     \n",
            "                                                                 \n",
            " lstm_1 (LSTM)               (None, 64)                49408     \n",
            "                                                                 \n",
            " dense (Dense)               (None, 1)                 65        \n",
            "                                                                 \n",
            "=================================================================\n",
            "Total params: 118,593\n",
            "Trainable params: 118,593\n",
            "Non-trainable params: 0\n",
            "_________________________________________________________________\n"
          ]
        }
      ]
    },
    {
      "cell_type": "code",
      "source": [
        "model1.compile(optimizer=Adam(learning_rate=0.001), loss='binary_crossentropy', metrics=['accuracy'])\n",
        "history = model1.fit(X_train_seq, y_train_seq, epochs=1, batch_size=128, validation_split=0.1, verbose=1)"
      ],
      "metadata": {
        "colab": {
          "base_uri": "https://localhost:8080/"
        },
        "id": "AbKsa_vw5VbR",
        "outputId": "688f361c-ef56-4451-d9cf-aae6e9c314e7"
      },
      "execution_count": 21,
      "outputs": [
        {
          "output_type": "stream",
          "name": "stdout",
          "text": [
            "14489/14489 [==============================] - 1076s 74ms/step - loss: 0.0162 - accuracy: 0.9951 - val_loss: 0.0250 - val_accuracy: 0.9921\n"
          ]
        }
      ]
    },
    {
      "cell_type": "code",
      "source": [
        "from sklearn.metrics import accuracy_score, confusion_matrix, classification_report"
      ],
      "metadata": {
        "id": "FIQPVJsv5YUE"
      },
      "execution_count": 23,
      "outputs": []
    },
    {
      "cell_type": "markdown",
      "source": [
        "# Testing "
      ],
      "metadata": {
        "id": "spu6yqcWijJI"
      }
    },
    {
      "cell_type": "code",
      "source": [
        "y_pred_sigmoid = model1.predict(X_test_seq)\n",
        "\n",
        "y_pred_sigmoid = y_pred_sigmoid.flatten()\n",
        "\n",
        "y_pred = []\n",
        "for i in y_pred_sigmoid:\n",
        "  if i >= 0.5:\n",
        "    y_pred.append(1)\n",
        "  else:\n",
        "    y_pred.append(0)"
      ],
      "metadata": {
        "colab": {
          "base_uri": "https://localhost:8080/"
        },
        "id": "0zjC04BL_I_N",
        "outputId": "e91cf7fd-3680-4c7c-ded3-bfc122587748"
      },
      "execution_count": 24,
      "outputs": [
        {
          "output_type": "stream",
          "name": "stdout",
          "text": [
            "16099/16099 [==============================] - 189s 12ms/step\n"
          ]
        }
      ]
    },
    {
      "cell_type": "code",
      "source": [
        "y_test_seq = y_test_seq.tolist()\n",
        "y_train_seq = y_train_seq.tolist()"
      ],
      "metadata": {
        "id": "vOX6Geno_Kr6"
      },
      "execution_count": 25,
      "outputs": []
    },
    {
      "cell_type": "markdown",
      "source": [
        "#Evaluation"
      ],
      "metadata": {
        "id": "hY0mRHW_im9P"
      }
    },
    {
      "cell_type": "code",
      "source": [
        "# Test Scores\n",
        "from sklearn.metrics import f1_score, matthews_corrcoef\n",
        "\n",
        "print(\"Accuracy:\", accuracy_score(y_test_seq, y_pred))\n",
        "print(\"F1 Score:\", f1_score(y_test_seq, y_pred))\n",
        "print(\"MCC Score:\", matthews_corrcoef(y_test_seq, y_pred))\n",
        "print()\n",
        "print(\"Confusion Matrix:\\n\", confusion_matrix(y_test_seq, y_pred))\n",
        "print()\n",
        "print(\"Classification Report:\\n\", classification_report(y_test_seq, y_pred))"
      ],
      "metadata": {
        "colab": {
          "base_uri": "https://localhost:8080/"
        },
        "id": "ayMPk2U6__30",
        "outputId": "89afb385-1b39-42b6-e929-e46dd8e5eb73"
      },
      "execution_count": 30,
      "outputs": [
        {
          "output_type": "stream",
          "name": "stdout",
          "text": [
            "Accuracy: 0.9862196012050812\n",
            "F1 Score: 0.9769900719242576\n",
            "MCC Score: 0.9674125576280863\n",
            "\n",
            "Confusion Matrix:\n",
            " [[357343   6027]\n",
            " [  1072 150710]]\n",
            "\n",
            "Classification Report:\n",
            "               precision    recall  f1-score   support\n",
            "\n",
            "           0       1.00      0.98      0.99    363370\n",
            "           1       0.96      0.99      0.98    151782\n",
            "\n",
            "    accuracy                           0.99    515152\n",
            "   macro avg       0.98      0.99      0.98    515152\n",
            "weighted avg       0.99      0.99      0.99    515152\n",
            "\n"
          ]
        }
      ]
    },
    {
      "cell_type": "code",
      "source": [
        "from sklearn.metrics import roc_auc_score\n",
        "\n",
        "# Assuming you have predicted probabilities stored in y_pred_probs\n",
        "roc_auc = roc_auc_score(y_test_seq, y_pred)\n",
        "print(\"ROC-AUC Score:\", roc_auc)"
      ],
      "metadata": {
        "colab": {
          "base_uri": "https://localhost:8080/"
        },
        "id": "wTpf2Ruamre6",
        "outputId": "5fac20ff-3b68-4d98-d281-a92ac65af4ea"
      },
      "execution_count": 31,
      "outputs": [
        {
          "output_type": "stream",
          "name": "stdout",
          "text": [
            "ROC-AUC Score: 0.9881754196985633\n"
          ]
        }
      ]
    },
    {
      "cell_type": "code",
      "source": [
        "cf_matrix = confusion_matrix(y_test_seq, y_pred)\n",
        "\n",
        "cf_matrix_percent = [cf_matrix[0]/(cf_matrix[0,0]+cf_matrix[0,1]), cf_matrix[1]/(cf_matrix[1,0]+cf_matrix[1,1])]"
      ],
      "metadata": {
        "id": "Jnod2k6rAC1g"
      },
      "execution_count": 32,
      "outputs": []
    },
    {
      "cell_type": "code",
      "source": [
        "import seaborn as sns\n",
        "\n",
        "cf_matrix = confusion_matrix(y_test_seq, y_pred)\n",
        "\n",
        "sns.heatmap(cf_matrix_percent, annot=True, \n",
        "            fmt='.2%', cmap='Blues')\n",
        "plt.ylabel('True Label')\n",
        "plt.xlabel('Predicted Label')\n",
        "plt.show()"
      ],
      "metadata": {
        "colab": {
          "base_uri": "https://localhost:8080/",
          "height": 449
        },
        "id": "ncEDlcGUAOUa",
        "outputId": "d99e49ce-4e67-452f-d975-c0d2758c2d85"
      },
      "execution_count": 33,
      "outputs": [
        {
          "output_type": "display_data",
          "data": {
            "text/plain": [
              "<Figure size 640x480 with 2 Axes>"
            ],
            "image/png": "[encoded data removed]"
          },
          "metadata": {}
        }
      ]
    },
    {
      "cell_type": "code",
      "source": [
        "# pip install pydot graphviz\n",
        "from keras.utils import plot_model\n",
        "\n",
        "# Assuming you have a model called 'model'\n",
        "plot_model(model1, to_file='model.png', show_shapes=True, show_layer_names=True)"
      ],
      "metadata": {
        "colab": {
          "base_uri": "https://localhost:8080/",
          "height": 533
        },
        "id": "3h2TfrFLAP3f",
        "outputId": "2f43bc15-3d18-4867-d3bd-8ee65ae5be90"
      },
      "execution_count": 34,
      "outputs": [
        {
          "output_type": "execute_result",
          "data": {
            "image/png": "[encoded data removed]",
            "text/plain": [
              "<IPython.core.display.Image object>"
            ]
          },
          "metadata": {},
          "execution_count": 34
        }
      ]
    },
    {
      "cell_type": "markdown",
      "source": [
        "# DEMO"
      ],
      "metadata": {
        "id": "pduSbiRNL7sh"
      }
    },
    {
      "cell_type": "code",
      "source": [
        "input_sequence = pd.read_excel('/content/drive/MyDrive/GWAR /test.xlsx')"
      ],
      "metadata": {
        "id": "QC67VeFXFVhC"
      },
      "execution_count": 57,
      "outputs": []
    },
    {
      "cell_type": "code",
      "source": [
        "input_sequence = input_sequence.fillna(-.0000001)\n",
        "encoder = LabelEncoder()\n",
        "input_sequence['ID_encoded'] = encoder.fit_transform(input_sequence['ID'])\n"
      ],
      "metadata": {
        "id": "UH9Mr9PoJwnI"
      },
      "execution_count": 45,
      "outputs": []
    },
    {
      "cell_type": "code",
      "source": [
        "input_sequence = input_sequence.drop('ID', axis =1)\n"
      ],
      "metadata": {
        "id": "qHzZMiyiLT4e"
      },
      "execution_count": 46,
      "outputs": []
    },
    {
      "cell_type": "code",
      "source": [
        "preprocessed_sequence = sc.transform(input_sequence)\n",
        "input_sequence_seq = create_sequences(preprocessed_sequence, sequence_length)"
      ],
      "metadata": {
        "colab": {
          "base_uri": "https://localhost:8080/"
        },
        "id": "MlN2FyN3LOR0",
        "outputId": "93838a72-42a2-4db2-aabe-69ca8c1ee551"
      },
      "execution_count": 47,
      "outputs": [
        {
          "output_type": "stream",
          "name": "stderr",
          "text": [
            "/usr/local/lib/python3.10/dist-packages/sklearn/base.py:432: UserWarning: X has feature names, but StandardScaler was fitted without feature names\n",
            "  warnings.warn(\n"
          ]
        }
      ]
    },
    {
      "cell_type": "code",
      "source": [
        "input_sequence_seq = input_sequence_seq.reshape(1, sequence_length, n_features)\n",
        "\n",
        "# Make the prediction\n",
        "prediction = model1.predict(input_sequence_seq)"
      ],
      "metadata": {
        "colab": {
          "base_uri": "https://localhost:8080/"
        },
        "id": "nsIFFpy_LPdW",
        "outputId": "a9618c12-82a1-4599-ca45-8d086ded09b4"
      },
      "execution_count": 48,
      "outputs": [
        {
          "output_type": "stream",
          "name": "stdout",
          "text": [
            "1/1 [==============================] - 0s 62ms/step\n"
          ]
        }
      ]
    },
    {
      "cell_type": "code",
      "source": [
        "RED_COLOR = \"\\033[91m\"\n",
        "BOLD_FORMAT = \"\\033[1m\"\n",
        "END_FORMAT = \"\\033[0m\"\n",
        "BIGGER_SIZE_FORMAT = \"\\033[5;30;48m\"\n",
        "\n",
        "# Interpret the prediction\n",
        "intrusion_threshold = 0.5"
      ],
      "metadata": {
        "id": "Ru8z0tuoLoBn"
      },
      "execution_count": 59,
      "outputs": []
    },
    {
      "cell_type": "code",
      "source": [
        "\n",
        "if prediction[0] >= intrusion_threshold:\n",
        "    print(RED_COLOR + BOLD_FORMAT +\"The input sequence is classified as an intrusion.\"+ END_FORMAT)\n",
        "else:\n",
        "\n",
        "# Print the message in red color and bold\n",
        "  print(RED_COLOR + BOLD_FORMAT + \"The input sequence is classified as non-intrusion.\" + END_FORMAT)\n",
        "\n",
        "    # print(\"The input sequence is classified as non-intrusion.\")"
      ],
      "metadata": {
        "colab": {
          "base_uri": "https://localhost:8080/"
        },
        "id": "V85S9KXrLcxd",
        "outputId": "79688058-6e98-4ae1-e3f3-57424a814852"
      },
      "execution_count": 60,
      "outputs": [
        {
          "output_type": "stream",
          "name": "stdout",
          "text": [
            "\u001b[91m\u001b[1mThe input sequence is classified as an intrusion.\u001b[0m\n"
          ]
        }
      ]
    },
    {
      "cell_type": "markdown",
      "source": [
        "# LSTM Autoencoder (Anomaly Detection)\n"
      ],
      "metadata": {
        "id": "RAbKOS71EY0k"
      }
    },
    {
      "cell_type": "code",
      "source": [
        "from keras.layers import Input, LSTM, RepeatVector\n",
        "from keras.models import Model"
      ],
      "metadata": {
        "id": "4b-SNsQ6AhQc"
      },
      "execution_count": null,
      "outputs": []
    },
    {
      "cell_type": "code",
      "source": [
        "# Encoder\n",
        "inputs = Input(shape=(sequence_length, n_features))\n",
        "encoded_1 = LSTM(256, activation='relu', return_sequences=True)(inputs)\n",
        "encoded_2 = LSTM(128, activation='relu')(encoded_1)\n",
        "\n",
        "# Decoder\n",
        "decoded_1 = RepeatVector(sequence_length)(encoded_2)\n",
        "decoded_2 = LSTM(128, activation='relu', return_sequences=True)(decoded_1)\n",
        "decoded_3 = LSTM(256, activation='relu', return_sequences=True)(decoded_2)\n",
        "decoded_output = TimeDistributed(Dense(n_features))(decoded_3)"
      ],
      "metadata": {
        "id": "BsaS4e8GOdPD"
      },
      "execution_count": null,
      "outputs": []
    },
    {
      "cell_type": "code",
      "source": [
        "# Autoencoder\n",
        "autoencoder = Model(inputs, decoded_output)\n",
        "\n",
        "# Compile and train the autoencoder\n",
        "autoencoder.compile(optimizer='adam', loss='mse')\n",
        "autoencoder.summary()"
      ],
      "metadata": {
        "colab": {
          "base_uri": "https://localhost:8080/"
        },
        "id": "c8V_uLP0PUFZ",
        "outputId": "099e8683-25c5-4d41-f43a-2288ff03c5f4"
      },
      "execution_count": null,
      "outputs": [
        {
          "output_type": "stream",
          "name": "stdout",
          "text": [
            "Model: \"model\"\n",
            "_________________________________________________________________\n",
            " Layer (type)                Output Shape              Param #   \n",
            "=================================================================\n",
            " input_1 (InputLayer)        [(None, 10, 6)]           0         \n",
            "                                                                 \n",
            " lstm_2 (LSTM)               (None, 10, 256)           269312    \n",
            "                                                                 \n",
            " lstm_3 (LSTM)               (None, 128)               197120    \n",
            "                                                                 \n",
            " repeat_vector (RepeatVector  (None, 10, 128)          0         \n",
            " )                                                               \n",
            "                                                                 \n",
            " lstm_4 (LSTM)               (None, 10, 128)           131584    \n",
            "                                                                 \n",
            " lstm_5 (LSTM)               (None, 10, 256)           394240    \n",
            "                                                                 \n",
            " time_distributed (TimeDistr  (None, 10, 6)            1542      \n",
            " ibuted)                                                         \n",
            "                                                                 \n",
            "=================================================================\n",
            "Total params: 993,798\n",
            "Trainable params: 993,798\n",
            "Non-trainable params: 0\n",
            "_________________________________________________________________\n"
          ]
        }
      ]
    },
    {
      "cell_type": "code",
      "source": [
        "history = autoencoder.fit(X_train_seq, X_train_seq, epochs=1, batch_size=128, validation_split=0.1, verbose=1)\n",
        "\n",
        "# Get the encoded representations of the input sequences\n",
        "encoder = Model(inputs, encoded_2)\n",
        "X_train_encoded = encoder.predict(X_train_seq)\n",
        "X_test_encoded = encoder.predict(X_test_seq)"
      ],
      "metadata": {
        "colab": {
          "base_uri": "https://localhost:8080/"
        },
        "id": "5LTibA5UPe1x",
        "outputId": "49265b63-7ceb-430e-dfd2-9bfd34b7d3e1"
      },
      "execution_count": null,
      "outputs": [
        {
          "output_type": "stream",
          "name": "stdout",
          "text": [
            "14489/14489 [==============================] - 4434s 305ms/step - loss: 0.0505 - val_loss: 0.0054\n",
            "64395/64395 [==============================] - 1494s 23ms/step\n",
            "16099/16099 [==============================] - 390s 24ms/step\n"
          ]
        }
      ]
    },
    {
      "cell_type": "code",
      "source": [
        "X_train_encoded"
      ],
      "metadata": {
        "id": "pjcmv2CzOHLe",
        "outputId": "80c2ec76-ea00-4e16-a67e-2186281528f3",
        "colab": {
          "base_uri": "https://localhost:8080/"
        }
      },
      "execution_count": null,
      "outputs": [
        {
          "output_type": "execute_result",
          "data": {
            "text/plain": [
              "array([[0.6393987 , 1.2123374 , 1.6803235 , ..., 0.26901847, 0.        ,\n",
              "        0.5782776 ],\n",
              "       [0.75577116, 2.986523  , 1.2950375 , ..., 0.39004454, 0.        ,\n",
              "        2.3094146 ],\n",
              "       [0.7580389 , 1.521149  , 1.0211856 , ..., 1.2472389 , 0.        ,\n",
              "        2.2716267 ],\n",
              "       ...,\n",
              "       [0.6594277 , 2.5494711 , 2.1801052 , ..., 0.7577974 , 0.        ,\n",
              "        3.386123  ],\n",
              "       [0.27654454, 1.0989828 , 1.295506  , ..., 1.0097017 , 0.        ,\n",
              "        1.9101582 ],\n",
              "       [0.46729276, 2.1021616 , 1.546992  , ..., 0.50458694, 0.        ,\n",
              "        1.0326456 ]], dtype=float32)"
            ]
          },
          "metadata": {},
          "execution_count": 51
        }
      ]
    },
    {
      "cell_type": "code",
      "source": [
        "# Calculate the reconstruction error of the autoencoder on the test set\n",
        "mse = autoencoder.evaluate(X_test_seq, X_test_seq, verbose=0)\n",
        "\n",
        "# Print the reconstruction error\n",
        "print(\"Reconstruction error:\", mse)\n",
        "\n",
        "\n",
        "# Predict the reconstructed sequences using the trained autoencoder\n",
        "X_test_pred = autoencoder.predict(X_test_seq)\n",
        "\n",
        "# Calculate the mean squared error between the predicted and original sequences\n",
        "mse = np.mean(np.power(X_test_seq - X_test_pred, 2), axis=1)\n",
        "\n",
        "# Print the reconstruction error\n",
        "print(\"Reconstruction error:\", mse)\n"
      ],
      "metadata": {
        "colab": {
          "base_uri": "https://localhost:8080/"
        },
        "id": "-kTasaqRsd-o",
        "outputId": "31ac1e57-4002-49de-cd0b-d4a9aa21a001"
      },
      "execution_count": null,
      "outputs": [
        {
          "output_type": "stream",
          "name": "stdout",
          "text": [
            "Reconstruction error: 0.037130992859601974\n",
            "16099/16099 [==============================] - 718s 45ms/step\n",
            "Reconstruction error: [[1.20186035e-02 1.18067542e-02 1.39495731e-02 3.29877975e-04\n",
            "  4.52893430e-05 4.26276374e-03]\n",
            " [1.27597968e-02 9.39255147e-03 7.94315363e-03 2.09452703e-04\n",
            "  2.94605510e-05 3.86890355e-03]\n",
            " [1.33457646e-02 1.14085530e-02 1.42497566e-02 5.01540162e-04\n",
            "  4.92854641e-05 3.75754291e-03]\n",
            " ...\n",
            " [8.07858391e-02 7.01926249e-02 1.18086153e-01 2.79057272e-03\n",
            "  3.36458197e-02 1.55330193e-02]\n",
            " [7.56954234e-02 8.85467167e-02 9.96829394e-02 2.21443562e-03\n",
            "  8.12076963e-03 2.96215672e-02]\n",
            " [7.85824338e-02 9.18220958e-02 1.46668668e-01 5.65507137e-03\n",
            "  1.99943163e-03 5.16462573e-02]]\n"
          ]
        }
      ]
    },
    {
      "cell_type": "code",
      "source": [
        "from sklearn.linear_model import LogisticRegression\n",
        "from sklearn.metrics import accuracy_score, f1_score, matthews_corrcoef, confusion_matrix, classification_report\n",
        "\n",
        "# Train a classifier using the encoded features\n",
        "classifier = LogisticRegression()\n",
        "classifier.fit(X_train_encoded, y_train_seq)\n",
        "\n",
        "# Predict on the test set using the classifier\n",
        "y_pred = classifier.predict(X_test_encoded)\n",
        "\n",
        "# Test Scores\n",
        "print(\"Accuracy:\", accuracy_score(y_test_seq, y_pred))\n",
        "print(\"F1 Score:\", f1_score(y_test_seq, y_pred))\n",
        "print(\"MCC Score:\", matthews_corrcoef(y_test_seq, y_pred))\n",
        "print()\n",
        "print(\"Confusion Matrix:\\n\", confusion_matrix(y_test_seq, y_pred))\n",
        "print()\n",
        "print(\"Classification Report:\\n\", classification_report(y_test_seq, y_pred))\n"
      ],
      "metadata": {
        "colab": {
          "base_uri": "https://localhost:8080/"
        },
        "id": "yLKLhExzPiQW",
        "outputId": "db4b6755-75e8-4fd6-eea0-303d770ecfde"
      },
      "execution_count": null,
      "outputs": [
        {
          "output_type": "stream",
          "name": "stderr",
          "text": [
            "/usr/local/lib/python3.10/dist-packages/sklearn/linear_model/_logistic.py:458: ConvergenceWarning: lbfgs failed to converge (status=1):\n",
            "STOP: TOTAL NO. of ITERATIONS REACHED LIMIT.\n",
            "\n",
            "Increase the number of iterations (max_iter) or scale the data as shown in:\n",
            "    https://scikit-learn.org/stable/modules/preprocessing.html\n",
            "Please also refer to the documentation for alternative solver options:\n",
            "    https://scikit-learn.org/stable/modules/linear_model.html#logistic-regression\n",
            "  n_iter_i = _check_optimize_result(\n"
          ]
        },
        {
          "output_type": "stream",
          "name": "stdout",
          "text": [
            "Accuracy: 0.8450534987731776\n",
            "F1 Score: 0.6856587025609319\n",
            "MCC Score: 0.6082946714324563\n",
            "\n",
            "Confusion Matrix:\n",
            " [[348276  15094]\n",
            " [ 64727  87055]]\n",
            "\n",
            "Classification Report:\n",
            "               precision    recall  f1-score   support\n",
            "\n",
            "           0       0.84      0.96      0.90    363370\n",
            "           1       0.85      0.57      0.69    151782\n",
            "\n",
            "    accuracy                           0.85    515152\n",
            "   macro avg       0.85      0.77      0.79    515152\n",
            "weighted avg       0.85      0.85      0.83    515152\n",
            "\n"
          ]
        }
      ]
    },
    {
      "cell_type": "code",
      "source": [
        "cf_matrix = confusion_matrix(y_test_seq, y_pred)\n",
        "\n",
        "cf_matrix_percent = [cf_matrix[0]/(cf_matrix[0,0]+cf_matrix[0,1]), cf_matrix[1]/(cf_matrix[1,0]+cf_matrix[1,1])]"
      ],
      "metadata": {
        "id": "VNxfY2ZEnjQD"
      },
      "execution_count": null,
      "outputs": []
    },
    {
      "cell_type": "code",
      "source": [
        "import seaborn as sns\n",
        "\n",
        "cf_matrix = confusion_matrix(y_test_seq, y_pred)\n",
        "\n",
        "sns.heatmap(cf_matrix_percent, annot=True, \n",
        "            fmt='.2%', cmap='Blues')\n",
        "plt.ylabel('True Label')\n",
        "plt.xlabel('Predicted Label')\n",
        "plt.show()"
      ],
      "metadata": {
        "colab": {
          "base_uri": "https://localhost:8080/",
          "height": 449
        },
        "id": "f40xZ-q7oAg0",
        "outputId": "5b935adb-c33f-4712-9819-08c0f7f2e9fb"
      },
      "execution_count": null,
      "outputs": [
        {
          "output_type": "display_data",
          "data": {
            "text/plain": [
              "<Figure size 640x480 with 2 Axes>"
            ],
            "image/png": "[encoded data removed]"
          },
          "metadata": {}
        }
      ]
    },
    {
      "cell_type": "code",
      "source": [
        "from sklearn.metrics import roc_curve\n",
        "from sklearn.metrics import roc_auc_score\n",
        "\n",
        "ns_probs = [0 for _ in range(len(y_test_seq))]\n",
        "\n",
        "# calculate scores\n",
        "ns_auc = roc_auc_score(y_test_seq, ns_probs)\n",
        "lr_auc = roc_auc_score(y_test_seq, y_pred)\n",
        "\n",
        "# summarize scores\n",
        "print('No Model: ROC AUC=%.3f' % (ns_auc))\n",
        "print('LSTM: ROC AUC=%.3f' % (lr_auc))\n",
        "\n",
        "# calculate roc curves\n",
        "ns_fpr, ns_tpr, _ = roc_curve(y_test_seq, ns_probs)\n",
        "lr_fpr, lr_tpr, _ = roc_curve(y_test_seq, y_pred)\n",
        "\n",
        "# plot the roc curve for the model\n",
        "plt.plot(ns_fpr, ns_tpr, linestyle='--')\n",
        "plt.plot(lr_fpr, lr_tpr, marker='.', label='LSTM')\n",
        "# axis labels\n",
        "plt.xlabel('False Positive Rate')\n",
        "plt.ylabel('True Positive Rate')\n",
        "# show the legend\n",
        "plt.legend()\n",
        "# show the plot\n",
        "plt.show()"
      ],
      "metadata": {
        "colab": {
          "base_uri": "https://localhost:8080/",
          "height": 484
        },
        "id": "adxHeA3CoBvm",
        "outputId": "8e6d7a66-f18b-4642-cb60-c5bc58935aaf"
      },
      "execution_count": null,
      "outputs": [
        {
          "output_type": "stream",
          "name": "stdout",
          "text": [
            "No Model: ROC AUC=0.500\n",
            "LSTM: ROC AUC=0.766\n"
          ]
        },
        {
          "output_type": "display_data",
          "data": {
            "text/plain": [
              "<Figure size 640x480 with 1 Axes>"
            ],
            "image/png": "[encoded data removed]"
          },
          "metadata": {}
        }
      ]
    },
    {
      "cell_type": "code",
      "source": [
        "f1_test = f1_score(y_test_seq, y_pred).round(3)\n",
        "mcc_test = matthews_corrcoef(y_test_seq, y_pred).round(3)\n",
        "\n",
        "f1_train = f1_score(y_train_seq, y_pred_train).round(3)\n",
        "mcc_train = matthews_corrcoef(y_train_seq, y_pred_train).round(3)"
      ],
      "metadata": {
        "colab": {
          "base_uri": "https://localhost:8080/",
          "height": 219
        },
        "id": "YEzp2x0hoFVS",
        "outputId": "b024dd1d-f781-49b6-b320-8e43d71d870f"
      },
      "execution_count": null,
      "outputs": [
        {
          "output_type": "error",
          "ename": "NameError",
          "evalue": "ignored",
          "traceback": [
            "\u001b[0;31m---------------------------------------------------------------------------\u001b[0m",
            "\u001b[0;31mNameError\u001b[0m                                 Traceback (most recent call last)",
            "\u001b[0;32m<ipython-input-49-4acb788f3253>\u001b[0m in \u001b[0;36m<cell line: 4>\u001b[0;34m()\u001b[0m\n\u001b[1;32m      2\u001b[0m \u001b[0mmcc_test\u001b[0m \u001b[0;34m=\u001b[0m \u001b[0mmatthews_corrcoef\u001b[0m\u001b[0;34m(\u001b[0m\u001b[0my_test_seq\u001b[0m\u001b[0;34m,\u001b[0m \u001b[0my_pred\u001b[0m\u001b[0;34m)\u001b[0m\u001b[0;34m.\u001b[0m\u001b[0mround\u001b[0m\u001b[0;34m(\u001b[0m\u001b[0;36m3\u001b[0m\u001b[0;34m)\u001b[0m\u001b[0;34m\u001b[0m\u001b[0;34m\u001b[0m\u001b[0m\n\u001b[1;32m      3\u001b[0m \u001b[0;34m\u001b[0m\u001b[0m\n\u001b[0;32m----> 4\u001b[0;31m \u001b[0mf1_train\u001b[0m \u001b[0;34m=\u001b[0m \u001b[0mf1_score\u001b[0m\u001b[0;34m(\u001b[0m\u001b[0my_train_seq\u001b[0m\u001b[0;34m,\u001b[0m \u001b[0my_pred_train\u001b[0m\u001b[0;34m)\u001b[0m\u001b[0;34m.\u001b[0m\u001b[0mround\u001b[0m\u001b[0;34m(\u001b[0m\u001b[0;36m3\u001b[0m\u001b[0;34m)\u001b[0m\u001b[0;34m\u001b[0m\u001b[0;34m\u001b[0m\u001b[0m\n\u001b[0m\u001b[1;32m      5\u001b[0m \u001b[0mmcc_train\u001b[0m \u001b[0;34m=\u001b[0m \u001b[0mmatthews_corrcoef\u001b[0m\u001b[0;34m(\u001b[0m\u001b[0my_train_seq\u001b[0m\u001b[0;34m,\u001b[0m \u001b[0my_pred_train\u001b[0m\u001b[0;34m)\u001b[0m\u001b[0;34m.\u001b[0m\u001b[0mround\u001b[0m\u001b[0;34m(\u001b[0m\u001b[0;36m3\u001b[0m\u001b[0;34m)\u001b[0m\u001b[0;34m\u001b[0m\u001b[0;34m\u001b[0m\u001b[0m\n",
            "\u001b[0;31mNameError\u001b[0m: name 'y_pred_train' is not defined"
          ]
        }
      ]
    },
    {
      "cell_type": "code",
      "source": [
        "from keras.utils import plot_model\n",
        "\n",
        "# Assuming you have a model called 'model'\n",
        "plot_model(autoencoder, to_file='model.png', show_shapes=True, show_layer_names=True)\n"
      ],
      "metadata": {
        "colab": {
          "base_uri": "https://localhost:8080/",
          "height": 754
        },
        "id": "tVoYYwt0oHQu",
        "outputId": "ffb60c5b-ab7e-414a-9f5b-3d667955bd82"
      },
      "execution_count": null,
      "outputs": [
        {
          "output_type": "execute_result",
          "data": {
            "image/png": "[encoded data removed]",
            "text/plain": [
              "<IPython.core.display.Image object>"
            ]
          },
          "metadata": {},
          "execution_count": 50
        }
      ]
    },
    {
      "cell_type": "code",
      "source": [],
      "metadata": {
        "id": "VzNGYS0-o7uD"
      },
      "execution_count": null,
      "outputs": []
    }
  ]
}